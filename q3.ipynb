{
 "cells": [
  {
   "cell_type": "code",
   "execution_count": 1,
   "metadata": {},
   "outputs": [
    {
     "name": "stderr",
     "output_type": "stream",
     "text": [
      "/home/arnav/miniconda3/envs/pytorch/lib/python3.10/site-packages/tqdm/auto.py:22: TqdmWarning: IProgress not found. Please update jupyter and ipywidgets. See https://ipywidgets.readthedocs.io/en/stable/user_install.html\n",
      "  from .autonotebook import tqdm as notebook_tqdm\n"
     ]
    }
   ],
   "source": [
    "import numpy as np\n",
    "import torch\n",
    "import sys"
   ]
  },
  {
   "cell_type": "code",
   "execution_count": 2,
   "metadata": {},
   "outputs": [
    {
     "name": "stdout",
     "output_type": "stream",
     "text": [
      "cuda\n"
     ]
    }
   ],
   "source": [
    "if sys.platform == \"darwin\":\n",
    "    device = torch.device('mps' if torch.backends.mps.is_available() else 'cpu')\n",
    "else:\n",
    "    device = torch.device('cuda' if torch.cuda.is_available() else 'cpu')\n",
    "print(device)"
   ]
  },
  {
   "cell_type": "markdown",
   "metadata": {},
   "source": [
    "## Q 3.1"
   ]
  },
  {
   "cell_type": "markdown",
   "metadata": {},
   "source": []
  },
  {
   "cell_type": "code",
   "execution_count": null,
   "metadata": {},
   "outputs": [],
   "source": []
  },
  {
   "cell_type": "markdown",
   "metadata": {},
   "source": [
    "### Logistic Regression"
   ]
  },
  {
   "cell_type": "code",
   "execution_count": null,
   "metadata": {},
   "outputs": [],
   "source": [
    "class LinearLogisticRegression:\n",
    "    def __init__(self):\n",
    "        self.layers = torch.nn.Sequential(\n",
    "            torch.nn.Linear(4, 1, bias=True),\n",
    "            torch.nn.Sigmoid()\n",
    "        )\n",
    "        return\n",
    "    def forward(self, x):\n",
    "        x = x.view(-1, 4)\n",
    "        return self.layer(x)\n",
    "\n",
    "criterion = torch.nn.BCELoss(reduction='mean')"
   ]
  },
  {
   "cell_type": "markdown",
   "metadata": {},
   "source": [
    "## Q 3.2"
   ]
  },
  {
   "cell_type": "code",
   "execution_count": 32,
   "metadata": {},
   "outputs": [],
   "source": [
    "# Create Dataset\n",
    "mu = torch.tensor([2.5, 0])\n",
    "a  = []\n",
    "b = []\n",
    "for _ in range(750):\n",
    "    a.append(torch.normal(mu, torch.eye(2)).view(2,2))\n",
    "    b.append(torch.normal(-mu, torch.eye(2)).view(2,2))\n",
    "\n",
    "postive_data_points = torch.stack(a).view(750, 2, 2)\n",
    "negative_data_points = torch.stack(b).view(750, 2, 2)"
   ]
  },
  {
   "cell_type": "code",
   "execution_count": 52,
   "metadata": {},
   "outputs": [],
   "source": [
    "data_set = torch.cat((postive_data_points, negative_data_points))\n",
    "labels = torch.cat((torch.ones(750, 1), torch.zeros(750, 1)))\n",
    "shuffle_index = torch.randperm(data_set.shape[0])\n",
    "data_set = data_set[shuffle_index]\n",
    "labels = labels[shuffle_index]"
   ]
  },
  {
   "cell_type": "code",
   "execution_count": 53,
   "metadata": {},
   "outputs": [],
   "source": [
    "permuted_indices = torch.randperm(data_set.shape[0])\n",
    "training_data = data_set[permuted_indices[:1000]]\n",
    "training_labels = labels[permuted_indices[:1000]]\n",
    "validation_data = data_set[permuted_indices[1000:1250]]\n",
    "validation_labels = labels[permuted_indices[1000:1250]]\n",
    "test_data = data_set[permuted_indices[1250:1500]]\n",
    "test_labels = labels[permuted_indices[1250:1500]]"
   ]
  },
  {
   "cell_type": "code",
   "execution_count": null,
   "metadata": {},
   "outputs": [],
   "source": [
    "def train_logistic_regression(X_train, Y_train):\n",
    "    model = LinearLogisticRegression()\n",
    "    threshold = 1e-5\n",
    "    loss = 1.\n",
    "    while loss >= threshold:\n",
    "        y_hat = model()"
   ]
  }
 ],
 "metadata": {
  "kernelspec": {
   "display_name": "Python 3.10.6 ('pytorch')",
   "language": "python",
   "name": "python3"
  },
  "language_info": {
   "codemirror_mode": {
    "name": "ipython",
    "version": 3
   },
   "file_extension": ".py",
   "mimetype": "text/x-python",
   "name": "python",
   "nbconvert_exporter": "python",
   "pygments_lexer": "ipython3",
   "version": "3.10.6"
  },
  "orig_nbformat": 4,
  "vscode": {
   "interpreter": {
    "hash": "ff5afd5da137a8f0d0d9dd9997059d4bdae58ec77cc5a62e66d9149c0486d48b"
   }
  }
 },
 "nbformat": 4,
 "nbformat_minor": 2
}
