{
 "cells": [
  {
   "cell_type": "code",
   "execution_count": 215,
   "metadata": {},
   "outputs": [],
   "source": [
    "import numpy as np\n",
    "import math\n",
    "import torch\n",
    "import sys\n",
    "from matplotlib import pyplot as plt\n",
    "from matplotlib import colors as clrs"
   ]
  },
  {
   "cell_type": "code",
   "execution_count": 57,
   "metadata": {},
   "outputs": [
    {
     "name": "stdout",
     "output_type": "stream",
     "text": [
      "cuda\n"
     ]
    }
   ],
   "source": [
    "if sys.platform == \"darwin\":\n",
    "    device = torch.device('mps' if torch.backends.mps.is_available() else 'cpu')\n",
    "else:\n",
    "    device = torch.device('cuda' if torch.cuda.is_available() else 'cpu')\n",
    "print(device)"
   ]
  },
  {
   "cell_type": "markdown",
   "metadata": {},
   "source": [
    "## Q 3.1"
   ]
  },
  {
   "cell_type": "markdown",
   "metadata": {},
   "source": []
  },
  {
   "cell_type": "code",
   "execution_count": null,
   "metadata": {},
   "outputs": [],
   "source": []
  },
  {
   "cell_type": "markdown",
   "metadata": {},
   "source": [
    "### Logistic Regression"
   ]
  },
  {
   "cell_type": "code",
   "execution_count": 300,
   "metadata": {},
   "outputs": [],
   "source": [
    "# Create dataloaders\n",
    "class Dataset(torch.utils.data.Dataset):\n",
    "    def __init__(self, data, labels):\n",
    "        self.data = data\n",
    "        self.labels = labels\n",
    "\n",
    "    def __len__(self):\n",
    "        return self.labels.shape[0]\n",
    "\n",
    "    def __getitem__(self, i):\n",
    "        return self.data[i], self.labels[i]\n",
    "\n",
    "class LinearLogisticRegression(torch.nn.Module):\n",
    "    def __init__(self):\n",
    "        super(LinearLogisticRegression, self).__init__()\n",
    "        self.layers = torch.nn.Sequential(\n",
    "            torch.nn.Linear(2, 1, bias=True),\n",
    "            torch.nn.Sigmoid()\n",
    "        )\n",
    "        self.layers[0].state_dict()['weight'].zero_()\n",
    "        return\n",
    "    def forward(self, x):\n",
    "        x = x.view(-1, 2)\n",
    "        return self.layers(x)\n",
    "\n",
    "class KernelLogisticRegression(torch.nn.Module):\n",
    "    def __init__(self):\n",
    "        super(LinearLogisticRegression, self).__init__()\n",
    "        self.layers = torch.nn.Sequential(\n",
    "            torch.nn.Linear(4, 1, bias=True),\n",
    "            torch.nn.Sigmoid()\n",
    "        )\n",
    "        self.layers[0].state_dict()['weight'].zero_()\n",
    "        return\n",
    "    def forward(self, x):\n",
    "        x = x.view(-1, 4)\n",
    "        return self.layers(x)\n",
    "\n",
    "class LinearSVM(torch.nn.Module):\n",
    "    def __init__(self):\n",
    "        super(LinearSVM, self).__init__()\n",
    "        self.layers = torch.nn.Sequential(\n",
    "            torch.nn.Linear(2, 1, bias=True)\n",
    "        )\n",
    "        self.layers[0].state_dict()['weight'].zero_()\n",
    "        return\n",
    "    def forward(self, x):\n",
    "        x = x.view(-1, 2)\n",
    "        return self.layers(x)\n",
    "\n",
    "class KernelSVM(torch.nn.Module):\n",
    "    def __init__(self):\n",
    "        super(KernelSVM, self).__init__()\n",
    "        self.layers = torch.nn.Sequential(\n",
    "            torch.nn.Linear(4, 1, bias=True),\n",
    "            torch.nn.Sigmoid()\n",
    "        )\n",
    "        self.layers[0].state_dict()['weight'].zero_()\n",
    "        return\n",
    "    def forward(self, x):\n",
    "        x = x.view(-1, 4)\n",
    "        return self.layers(x)\n",
    "\n",
    "def run_knn(k, X_train, Y_train, X_test):\n",
    "    distances = -2*(X_test@X_train.T) + \\\n",
    "                torch.sum(torch.square(X_train), axis=1) + \\\n",
    "                torch.sum(torch.square(X_test), axis=1).unsqueeze_(-1)\n",
    "    sorted_indices = torch.argsort(distances, axis = 1)[:, :k]\n",
    "    knn = Y_train[sorted_indices].astype(np.int32)\n",
    "    return knn"
   ]
  },
  {
   "cell_type": "markdown",
   "metadata": {},
   "source": [
    "## Q 3.2"
   ]
  },
  {
   "cell_type": "code",
   "execution_count": 286,
   "metadata": {},
   "outputs": [],
   "source": [
    "# Create Dataset\n",
    "mu = torch.tensor([2.5, 0])\n",
    "a  = []\n",
    "b = []\n",
    "positive_example_sampler = torch.distributions.MultivariateNormal(mu, torch.eye(2))\n",
    "negative_example_sampler = torch.distributions.MultivariateNormal(-mu, torch.eye(2))\n",
    "for _ in range(750):\n",
    "    a.append(positive_example_sampler.sample().view(1,2))\n",
    "    b.append(negative_example_sampler.sample().view(1,2))\n",
    "\n",
    "postive_data_points = torch.stack(a).view(750, 2)\n",
    "negative_data_points = torch.stack(b).view(750, 2)"
   ]
  },
  {
   "cell_type": "code",
   "execution_count": 287,
   "metadata": {},
   "outputs": [],
   "source": [
    "data_set = torch.cat((postive_data_points, negative_data_points))\n",
    "labels = torch.cat((torch.ones(750, 1), torch.zeros(750, 1)))\n",
    "shuffle_index = torch.randperm(data_set.shape[0])\n",
    "data_set = data_set[shuffle_index]\n",
    "labels = labels[shuffle_index]"
   ]
  },
  {
   "cell_type": "code",
   "execution_count": 288,
   "metadata": {},
   "outputs": [],
   "source": [
    "permuted_indices = torch.randperm(data_set.shape[0])\n",
    "training_data = data_set[permuted_indices[:1000]]\n",
    "training_labels = labels[permuted_indices[:1000]]\n",
    "validation_data = data_set[permuted_indices[1000:1250]]\n",
    "validation_labels = labels[permuted_indices[1000:1250]]\n",
    "test_data = data_set[permuted_indices[1250:1500]]\n",
    "test_labels = labels[permuted_indices[1250:1500]] \n",
    "\n",
    "training_set = Dataset(training_data, training_labels)\n",
    "train_loader = torch.utils.data.DataLoader(training_set, shuffle=True, batch_size=256)\n",
    "validation_set = Dataset(validation_data, validation_labels)\n",
    "validation_loader = torch.utils.data.DataLoader(validation_set, shuffle=True, batch_size=250)\n",
    "test_set = Dataset(test_data, test_labels)\n",
    "test_loader = torch.utils.data.DataLoader(test_set, shuffle=True, batch_size=250)"
   ]
  },
  {
   "cell_type": "code",
   "execution_count": 298,
   "metadata": {},
   "outputs": [],
   "source": [
    "def get_prediction(model, data):\n",
    "    return model(data).detach()\n",
    "\n",
    "def get_accuracy(predictions, labels):\n",
    "    threshold = torch.tensor([0.5])\n",
    "    predictions = (predictions >= threshold).float()*1\n",
    "    return float(torch.count_nonzero((labels == predictions)))/float(len(labels))\n",
    "\n",
    "def report_acc_decision_boundary(model, test_set_loader):\n",
    "    for data, labels in test_set_loader:\n",
    "        predictions = get_prediction(model, data)\n",
    "        accuracy = get_accuracy(predictions, labels)\n",
    "        print(f\" Accuracy of model on test set: {accuracy*100}%\")\n",
    "    return\n",
    "\n",
    "def draw_decision_boundary(model, test_dataset):\n",
    "    fig = plt.figure(figsize = (10, 7))\n",
    "    ax = plt.axes()\n",
    "\n",
    "    x_min, x_max = test_set.data.min() - 1, test_set.data.max() + 1\n",
    "    y_min, y_max = test_set.data.min() - 1, test_set.data.max() + 1\n",
    "    xx, yy = np.meshgrid(np.arange(x_min, x_max, 0.01).astype(np.float32),\n",
    "                        np.arange(y_min, y_max, 0.01).astype(np.float32))\n",
    "    preds = get_prediction(model, torch.hstack((torch.from_numpy(xx.ravel()).view(len(xx.ravel()), 1), torch.from_numpy(yy.ravel()).view(len(xx.ravel()), 1))))\n",
    "    threshold = torch.tensor([0.5])\n",
    "    preds = (preds >= threshold).float()*1\n",
    "    preds = preds.reshape(xx.shape)\n",
    "    plt.contourf(xx, yy, preds, cmap='Paired_r', alpha=0.5)\n",
    "    plt.contour(xx, yy, preds, colors='k', linewidths=0.7)\n",
    "\n",
    "    ax.scatter(test_dataset.data[:, 0], test_dataset.data[:, 1], c=test_dataset.labels ,cmap = clrs.ListedColormap([\"blue\", \"red\"]))\n",
    "    plt.title(\"Decision Boundary for Linear Regression\")\n",
    "\n",
    "    plt.show()\n",
    "    return\n",
    "\n",
    "def train_logistic_regression(model, train_loader, validation_loader, learning_rate, losses):\n",
    "    criterion = torch.nn.BCELoss(reduction='mean')\n",
    "    threshold = 1e-5\n",
    "    loss_reduction = 1.0\n",
    "    optim = torch.optim.SGD(model.parameters(), learning_rate)\n",
    "    prev_loss = math.inf\n",
    "    curr_loss = math.inf\n",
    "\n",
    "    while loss_reduction >= threshold:\n",
    "        for x, y in train_loader:\n",
    "            # Train model on training set\n",
    "            y_hat = model(x)\n",
    "            loss = criterion(y_hat, y)\n",
    "            optim.zero_grad()\n",
    "            loss.backward()\n",
    "            optim.step()\n",
    "\n",
    "            # Evaluate on validation set\n",
    "        for val_data, val_labels in validation_loader:\n",
    "            val_predictions = get_prediction(model, val_data)\n",
    "            curr_loss = criterion(val_predictions, val_labels).item()\n",
    "        loss_reduction = abs(curr_loss/prev_loss - 1.0)\n",
    "        prev_loss = curr_loss\n",
    "        losses.append(prev_loss)\n",
    "    return\n",
    "\n",
    "def train_linear_svm(model, train_loader, validation_loader, learning_rate, losses):\n",
    "    criterion = torch.nn.BCELoss(reduction='mean')\n",
    "    threshold = 1e-5\n",
    "    loss_reduction = 1.0\n",
    "    optim = torch.optim.SGD(model.parameters(), learning_rate)\n",
    "    prev_loss = math.inf\n",
    "    curr_loss = math.inf\n",
    "\n",
    "    while loss_reduction >= threshold:\n",
    "        for x, y in train_loader:\n",
    "            # Train model on training set\n",
    "            y_hat = model(x)\n",
    "            loss = criterion(y_hat, y)\n",
    "            optim.zero_grad()\n",
    "            loss.backward()\n",
    "            optim.step()\n",
    "\n",
    "            # Evaluate on validation set\n",
    "        for val_data, val_labels in validation_loader:\n",
    "            val_predictions = get_prediction(model, val_data)\n",
    "            curr_loss = criterion(val_predictions, val_labels).item()\n",
    "        loss_reduction = abs(curr_loss/prev_loss - 1.0)\n",
    "        prev_loss = curr_loss\n",
    "        losses.append(prev_loss)\n",
    "    return\n"
   ]
  },
  {
   "cell_type": "markdown",
   "metadata": {},
   "source": [
    "#### Logistic Regression - Report Accuracy and draw Decision Boundary"
   ]
  },
  {
   "cell_type": "code",
   "execution_count": null,
   "metadata": {},
   "outputs": [],
   "source": [
    "# Train model\n",
    "linear_lr_model = LinearLogisticRegression()\n",
    "losses = []\n",
    "train_logistic_regression(linear_lr_model, train_loader, validation_loader, 0.05, losses)"
   ]
  },
  {
   "cell_type": "code",
   "execution_count": 291,
   "metadata": {},
   "outputs": [
    {
     "name": "stdout",
     "output_type": "stream",
     "text": [
      " Accuracy of model on test set: 100.0%\n"
     ]
    }
   ],
   "source": [
    "#Report Accuracy\n",
    "report_acc_decision_boundary(linear_lr_model, test_loader)\n",
    "\n",
    "#Draw - decision boundary\n",
    "draw_decision_boundary(linear_lr_model, test_set)"
   ]
  },
  {
   "cell_type": "markdown",
   "metadata": {},
   "source": [
    "#### Linear SVM"
   ]
  },
  {
   "cell_type": "code",
   "execution_count": 301,
   "metadata": {},
   "outputs": [],
   "source": [
    "linear_svm_model = LinearSVM()\n",
    "losses = []\n"
   ]
  },
  {
   "cell_type": "code",
   "execution_count": null,
   "metadata": {},
   "outputs": [],
   "source": []
  },
  {
   "cell_type": "code",
   "execution_count": null,
   "metadata": {},
   "outputs": [],
   "source": []
  },
  {
   "cell_type": "markdown",
   "metadata": {},
   "source": [
    "### Q 3.2"
   ]
  },
  {
   "cell_type": "code",
   "execution_count": 293,
   "metadata": {},
   "outputs": [],
   "source": [
    "import sklearn"
   ]
  },
  {
   "cell_type": "code",
   "execution_count": 296,
   "metadata": {},
   "outputs": [],
   "source": [
    "data_set_tuples = sklearn.datasets.make_circles(1500)\n",
    "\n",
    "data_set = torch.zeros((len(data_set_tuples[0]), 2), dtype=torch.float)\n",
    "labels = torch.zeros((len(data_set_tuples[0]), 1), dtype=torch.float)\n",
    "data_set.copy_(torch.from_numpy(data_set_tuples[0].astype(np.float32)))\n",
    "labels.copy_(torch.from_numpy(data_set_tuples[1].astype(np.float32)).view((len(data_set_tuples[0]), 1)))\n",
    "permuted_indices = torch.randperm(data_set.shape[0])\n",
    "training_data = data_set[permuted_indices[:1000]]\n",
    "training_labels = labels[permuted_indices[:1000]]\n",
    "validation_data = data_set[permuted_indices[1000:1250]]\n",
    "validation_labels = labels[permuted_indices[1000:1250]]\n",
    "test_data = data_set[permuted_indices[1250:1500]]\n",
    "test_labels = labels[permuted_indices[1250:1500]]\n",
    "\n",
    "training_set = Dataset(training_data, training_labels)\n",
    "train_loader = torch.utils.data.DataLoader(training_set, shuffle=True, batch_size=256)\n",
    "validation_set = Dataset(validation_data, validation_labels)\n",
    "validation_loader = torch.utils.data.DataLoader(validation_set, shuffle=True, batch_size=250)\n",
    "test_set = Dataset(test_data, test_labels)\n",
    "test_loader = torch.utils.data.DataLoader(test_set, shuffle=True, batch_size=250)"
   ]
  },
  {
   "cell_type": "markdown",
   "metadata": {},
   "source": [
    "#### Linear Regression Model"
   ]
  },
  {
   "cell_type": "code",
   "execution_count": 297,
   "metadata": {},
   "outputs": [
    {
     "name": "stdout",
     "output_type": "stream",
     "text": [
      " Accuracy of model on test set: 52.800000000000004%\n"
     ]
    },
    {
     "data": {
      "image/png": "[encoded data removed]",
      "text/plain": [
       "<Figure size 1000x700 with 1 Axes>"
      ]
     },
     "metadata": {},
     "output_type": "display_data"
    }
   ],
   "source": [
    "linear_lr_model = LinearLogisticRegression()\n",
    "losses = []\n",
    "train_logistic_regression(linear_lr_model, train_loader, validation_loader, 0.05, losses)\n",
    "\n",
    "#Accuracy\n",
    "report_acc_decision_boundary(linear_lr_model, test_loader)\n",
    "\n",
    "#Decision Boundary\n",
    "draw_decision_boundary(linear_lr_model, test_set)"
   ]
  },
  {
   "cell_type": "markdown",
   "metadata": {},
   "source": [
    "#### Linear SVM Model"
   ]
  },
  {
   "cell_type": "code",
   "execution_count": null,
   "metadata": {},
   "outputs": [],
   "source": []
  }
 ],
 "metadata": {
  "kernelspec": {
   "display_name": "Python 3.10.6 ('pytorch')",
   "language": "python",
   "name": "python3"
  },
  "language_info": {
   "codemirror_mode": {
    "name": "ipython",
    "version": 3
   },
   "file_extension": ".py",
   "mimetype": "text/x-python",
   "name": "python",
   "nbconvert_exporter": "python",
   "pygments_lexer": "ipython3",
   "version": "3.10.6"
  },
  "orig_nbformat": 4,
  "vscode": {
   "interpreter": {
    "hash": "ff5afd5da137a8f0d0d9dd9997059d4bdae58ec77cc5a62e66d9149c0486d48b"
   }
  }
 },
 "nbformat": 4,
 "nbformat_minor": 2
}
